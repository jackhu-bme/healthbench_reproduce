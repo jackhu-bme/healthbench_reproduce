{
 "cells": [
  {
   "cell_type": "code",
   "execution_count": null,
   "metadata": {},
   "outputs": [],
   "source": [
    "import pickle\n",
    "import pprint\n",
    "\n",
    "# 指定要看的 pickle 文件路径\n",
    "file_path = \"/home/xufluo/healthbench_reproduce/tmp/healthbench_eval_20250902_042803/result_0.pkl\"\n",
    "\n",
    "with open(file_path, \"rb\") as f:\n",
    "    result = pickle.load(f)\n",
    "\n",
    "# 直接打印整个对象\n",
    "print(result)\n",
    "\n",
    "# 如果你只关心某些字段，可以用 pprint 展示清晰一些\n",
    "pprint.pprint(result.example_level_metadata)\n",
    "\n",
    "# 比如单独查看 prompt 和 completion\n",
    "print(\"Prompt messages:\")\n",
    "for msg in result.example_level_metadata[\"prompt\"]:\n",
    "    print(msg)\n",
    "\n",
    "print(\"\\nCompletion:\")\n",
    "for comp in result.example_level_metadata[\"completion\"]:\n",
    "    print(comp[\"content\"])\n"
   ]
  }
 ],
 "metadata": {
  "kernelspec": {
   "display_name": "eval",
   "language": "python",
   "name": "python3"
  },
  "language_info": {
   "name": "python",
   "version": "3.10.18"
  }
 },
 "nbformat": 4,
 "nbformat_minor": 2
}
